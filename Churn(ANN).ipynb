{
 "cells": [
  {
   "cell_type": "code",
   "execution_count": 0,
   "metadata": {
    "colab": {},
    "colab_type": "code",
    "id": "g4ERkuu3ySRM"
   },
   "outputs": [],
   "source": [
    "#importing the libraries\n",
    "import numpy as np\n",
    "import matplotlib.pyplot as plt\n",
    "import pandas as pd\n",
    "import tensorflow as tf\n",
    "from sklearn.preprocessing import LabelEncoder\n",
    "from sklearn.preprocessing import OneHotEncoder\n",
    "from sklearn.compose import ColumnTransformer\n",
    "from sklearn.model_selection import train_test_split\n",
    "from sklearn.preprocessing import StandardScaler\n",
    "from sklearn.metrics import confusion_matrix,accuracy_score"
   ]
  },
  {
   "cell_type": "code",
   "execution_count": 0,
   "metadata": {
    "colab": {},
    "colab_type": "code",
    "id": "96UzGusR2HJ8"
   },
   "outputs": [],
   "source": [
    "#Data Preprocessing\n",
    "#importing the data set \n",
    "data = pd.read_csv(\"bank_data.csv\")\n",
    "x = data.iloc[:,3:-1].values\n",
    "y = data[\"Exited\"].values"
   ]
  },
  {
   "cell_type": "code",
   "execution_count": 0,
   "metadata": {
    "colab": {
     "base_uri": "https://localhost:8080/",
     "height": 641
    },
    "colab_type": "code",
    "id": "EpP2UbpMuUEC",
    "outputId": "4cf0c23e-9547-4f80-cc04-5376bead2d6c"
   },
   "outputs": [
    {
     "data": {
      "image/png": "[encoded data removed]",
      "text/plain": [
       "<Figure size 1080x720 with 1 Axes>"
      ]
     },
     "metadata": {
      "needs_background": "light",
      "tags": []
     },
     "output_type": "display_data"
    }
   ],
   "source": [
    "#plotting the graph\n",
    "data.groupby([\"Geography\", \"Exited\"]).size().unstack().plot(kind='bar', stacked=True, figsize=(15,10));"
   ]
  },
  {
   "cell_type": "code",
   "execution_count": 0,
   "metadata": {
    "colab": {},
    "colab_type": "code",
    "id": "OpkP3lqP4EC_"
   },
   "outputs": [],
   "source": [
    "#converting the categorical columns\n",
    "#label encoding for the gender  \n",
    "le = LabelEncoder()\n",
    "x[:,2] = le.fit_transform(x[:,2])\n",
    " \n",
    "#one hot encoding for the geography\n",
    "ct = ColumnTransformer(transformers = [('encoder',\n",
    "                                        OneHotEncoder(),[1])],\n",
    "                       remainder='passthrough')\n",
    "x=np.array(ct.fit_transform(x))"
   ]
  },
  {
   "cell_type": "code",
   "execution_count": 0,
   "metadata": {
    "colab": {
     "base_uri": "https://localhost:8080/",
     "height": 136
    },
    "colab_type": "code",
    "id": "nFk7wNv65cR5",
    "outputId": "36564310-bd21-4b19-8487-7abd5b7d112e"
   },
   "outputs": [
    {
     "name": "stdout",
     "output_type": "stream",
     "text": [
      "[[1.0 0.0 0.0 ... 1 1 101348.88]\n",
      " [0.0 0.0 1.0 ... 0 1 112542.58]\n",
      " [1.0 0.0 0.0 ... 1 0 113931.57]\n",
      " ...\n",
      " [1.0 0.0 0.0 ... 0 1 42085.58]\n",
      " [0.0 1.0 0.0 ... 1 0 92888.52]\n",
      " [1.0 0.0 0.0 ... 1 0 38190.78]]\n"
     ]
    }
   ],
   "source": [
    "print(x)"
   ]
  },
  {
   "cell_type": "code",
   "execution_count": 0,
   "metadata": {
    "colab": {},
    "colab_type": "code",
    "id": "cmdg3BFN8HCs"
   },
   "outputs": [],
   "source": [
    "#splitting the dataset\n",
    "x_train,x_test,y_train,y_test = train_test_split(x,y,random_state=0)"
   ]
  },
  {
   "cell_type": "code",
   "execution_count": 0,
   "metadata": {
    "colab": {},
    "colab_type": "code",
    "id": "DIHVlora8kXE"
   },
   "outputs": [],
   "source": [
    "#feature scaling\n",
    "sc = StandardScaler()\n",
    "x_train = sc.fit_transform(x_train)\n",
    "x_test = sc.fit_transform(x_test)"
   ]
  },
  {
   "cell_type": "code",
   "execution_count": 0,
   "metadata": {
    "colab": {},
    "colab_type": "code",
    "id": "oEaUrDj99ZHT"
   },
   "outputs": [],
   "source": [
    "#initialising the ann\n",
    "ann = tf.keras.models.Sequential()"
   ]
  },
  {
   "cell_type": "code",
   "execution_count": 0,
   "metadata": {
    "colab": {},
    "colab_type": "code",
    "id": "e45v6fdSBVMp"
   },
   "outputs": [],
   "source": [
    "#adding input and first hidden layer\n",
    "ann.add(tf.keras.layers.Dense(units=6,activation='relu'))\n",
    "\n",
    "#adding second hidden layer\n",
    "ann.add(tf.keras.layers.Dense(units=6,activation='relu'))\n",
    "\n",
    "#adding output layer\n",
    "ann.add(tf.keras.layers.Dense(units=1,activation='sigmoid'))"
   ]
  },
  {
   "cell_type": "code",
   "execution_count": 0,
   "metadata": {
    "colab": {},
    "colab_type": "code",
    "id": "UXrDcLkrCMvy"
   },
   "outputs": [],
   "source": [
    "#compling the ann\n",
    "ann.compile(optimizer='adam', loss='binary_crossentropy',metrics=['accuracy'])"
   ]
  },
  {
   "cell_type": "code",
   "execution_count": 0,
   "metadata": {
    "colab": {
     "base_uri": "https://localhost:8080/",
     "height": 1000
    },
    "colab_type": "code",
    "id": "8DdfwLPXGl2h",
    "outputId": "1e56c878-8f10-4acf-caf1-92de587c4ce3"
   },
   "outputs": [
    {
     "name": "stdout",
     "output_type": "stream",
     "text": [
      "Epoch 1/200\n",
      "188/188 [==============================] - 0s 1ms/step - loss: 0.3395 - accuracy: 0.8603\n",
      "Epoch 2/200\n",
      "188/188 [==============================] - 0s 1ms/step - loss: 0.3388 - accuracy: 0.8595\n",
      "Epoch 3/200\n",
      "188/188 [==============================] - 0s 1ms/step - loss: 0.3381 - accuracy: 0.8600\n",
      "Epoch 4/200\n",
      "188/188 [==============================] - 0s 1ms/step - loss: 0.3386 - accuracy: 0.8609\n",
      "Epoch 5/200\n",
      "188/188 [==============================] - 0s 1ms/step - loss: 0.3380 - accuracy: 0.8619\n",
      "Epoch 6/200\n",
      "188/188 [==============================] - 0s 1ms/step - loss: 0.3386 - accuracy: 0.8613\n",
      "Epoch 7/200\n",
      "188/188 [==============================] - 0s 1ms/step - loss: 0.3379 - accuracy: 0.8608\n",
      "Epoch 8/200\n",
      "188/188 [==============================] - 0s 1ms/step - loss: 0.3379 - accuracy: 0.8607\n",
      "Epoch 9/200\n",
      "188/188 [==============================] - 0s 1ms/step - loss: 0.3385 - accuracy: 0.8616\n",
      "Epoch 10/200\n",
      "188/188 [==============================] - 0s 1ms/step - loss: 0.3379 - accuracy: 0.8624\n",
      "Epoch 11/200\n",
      "188/188 [==============================] - 0s 1ms/step - loss: 0.3376 - accuracy: 0.8609\n",
      "Epoch 12/200\n",
      "188/188 [==============================] - 0s 1ms/step - loss: 0.3370 - accuracy: 0.8625\n",
      "Epoch 13/200\n",
      "188/188 [==============================] - 0s 1ms/step - loss: 0.3372 - accuracy: 0.8621\n",
      "Epoch 14/200\n",
      "188/188 [==============================] - 0s 1ms/step - loss: 0.3372 - accuracy: 0.8616\n",
      "Epoch 15/200\n",
      "188/188 [==============================] - 0s 1ms/step - loss: 0.3380 - accuracy: 0.8609\n",
      "Epoch 16/200\n",
      "188/188 [==============================] - 0s 1ms/step - loss: 0.3369 - accuracy: 0.8620\n",
      "Epoch 17/200\n",
      "188/188 [==============================] - 0s 1ms/step - loss: 0.3368 - accuracy: 0.8623\n",
      "Epoch 18/200\n",
      "188/188 [==============================] - 0s 1ms/step - loss: 0.3362 - accuracy: 0.8629\n",
      "Epoch 19/200\n",
      "188/188 [==============================] - 0s 1ms/step - loss: 0.3369 - accuracy: 0.8620\n",
      "Epoch 20/200\n",
      "188/188 [==============================] - 0s 1ms/step - loss: 0.3359 - accuracy: 0.8620\n",
      "Epoch 21/200\n",
      "188/188 [==============================] - 0s 1ms/step - loss: 0.3363 - accuracy: 0.8636\n",
      "Epoch 22/200\n",
      "188/188 [==============================] - 0s 1ms/step - loss: 0.3364 - accuracy: 0.8628\n",
      "Epoch 23/200\n",
      "188/188 [==============================] - 0s 1ms/step - loss: 0.3366 - accuracy: 0.8609\n",
      "Epoch 24/200\n",
      "188/188 [==============================] - 0s 1ms/step - loss: 0.3369 - accuracy: 0.8604\n",
      "Epoch 25/200\n",
      "188/188 [==============================] - 0s 1ms/step - loss: 0.3365 - accuracy: 0.8621\n",
      "Epoch 26/200\n",
      "188/188 [==============================] - 0s 1ms/step - loss: 0.3365 - accuracy: 0.8625\n",
      "Epoch 27/200\n",
      "188/188 [==============================] - 0s 1ms/step - loss: 0.3356 - accuracy: 0.8632\n",
      "Epoch 28/200\n",
      "188/188 [==============================] - 0s 1ms/step - loss: 0.3355 - accuracy: 0.8643\n",
      "Epoch 29/200\n",
      "188/188 [==============================] - 0s 1ms/step - loss: 0.3356 - accuracy: 0.8648\n",
      "Epoch 30/200\n",
      "188/188 [==============================] - 0s 1ms/step - loss: 0.3365 - accuracy: 0.8624\n",
      "Epoch 31/200\n",
      "188/188 [==============================] - 0s 1ms/step - loss: 0.3353 - accuracy: 0.8621\n",
      "Epoch 32/200\n",
      "188/188 [==============================] - 0s 1ms/step - loss: 0.3356 - accuracy: 0.8619\n",
      "Epoch 33/200\n",
      "188/188 [==============================] - 0s 1ms/step - loss: 0.3351 - accuracy: 0.8636\n",
      "Epoch 34/200\n",
      "188/188 [==============================] - 0s 1ms/step - loss: 0.3351 - accuracy: 0.8617\n",
      "Epoch 35/200\n",
      "188/188 [==============================] - 0s 1ms/step - loss: 0.3355 - accuracy: 0.8617\n",
      "Epoch 36/200\n",
      "188/188 [==============================] - 0s 1ms/step - loss: 0.3350 - accuracy: 0.8625\n",
      "Epoch 37/200\n",
      "188/188 [==============================] - 0s 1ms/step - loss: 0.3348 - accuracy: 0.8617\n",
      "Epoch 38/200\n",
      "188/188 [==============================] - 0s 1ms/step - loss: 0.3351 - accuracy: 0.8603\n",
      "Epoch 39/200\n",
      "188/188 [==============================] - 0s 1ms/step - loss: 0.3351 - accuracy: 0.8612\n",
      "Epoch 40/200\n",
      "188/188 [==============================] - 0s 1ms/step - loss: 0.3353 - accuracy: 0.8628\n",
      "Epoch 41/200\n",
      "188/188 [==============================] - 0s 1ms/step - loss: 0.3354 - accuracy: 0.8625\n",
      "Epoch 42/200\n",
      "188/188 [==============================] - 0s 1ms/step - loss: 0.3343 - accuracy: 0.8599\n",
      "Epoch 43/200\n",
      "188/188 [==============================] - 0s 1ms/step - loss: 0.3342 - accuracy: 0.8624\n",
      "Epoch 44/200\n",
      "188/188 [==============================] - 0s 1ms/step - loss: 0.3339 - accuracy: 0.8624\n",
      "Epoch 45/200\n",
      "188/188 [==============================] - 0s 1ms/step - loss: 0.3340 - accuracy: 0.8621\n",
      "Epoch 46/200\n",
      "188/188 [==============================] - 0s 1ms/step - loss: 0.3340 - accuracy: 0.8631\n",
      "Epoch 47/200\n",
      "188/188 [==============================] - 0s 1ms/step - loss: 0.3339 - accuracy: 0.8655\n",
      "Epoch 48/200\n",
      "188/188 [==============================] - 0s 1ms/step - loss: 0.3346 - accuracy: 0.8617\n",
      "Epoch 49/200\n",
      "188/188 [==============================] - 0s 1ms/step - loss: 0.3337 - accuracy: 0.8631\n",
      "Epoch 50/200\n",
      "188/188 [==============================] - 0s 1ms/step - loss: 0.3349 - accuracy: 0.8639\n",
      "Epoch 51/200\n",
      "188/188 [==============================] - 0s 1ms/step - loss: 0.3349 - accuracy: 0.8629\n",
      "Epoch 52/200\n",
      "188/188 [==============================] - 0s 1ms/step - loss: 0.3344 - accuracy: 0.8620\n",
      "Epoch 53/200\n",
      "188/188 [==============================] - 0s 1ms/step - loss: 0.3328 - accuracy: 0.8620\n",
      "Epoch 54/200\n",
      "188/188 [==============================] - 0s 1ms/step - loss: 0.3344 - accuracy: 0.8613\n",
      "Epoch 55/200\n",
      "188/188 [==============================] - 0s 1ms/step - loss: 0.3334 - accuracy: 0.8616\n",
      "Epoch 56/200\n",
      "188/188 [==============================] - 0s 1ms/step - loss: 0.3338 - accuracy: 0.8627\n",
      "Epoch 57/200\n",
      "188/188 [==============================] - 0s 1ms/step - loss: 0.3339 - accuracy: 0.8629\n",
      "Epoch 58/200\n",
      "188/188 [==============================] - 0s 1ms/step - loss: 0.3327 - accuracy: 0.8628\n",
      "Epoch 59/200\n",
      "188/188 [==============================] - 0s 1ms/step - loss: 0.3327 - accuracy: 0.8657\n",
      "Epoch 60/200\n",
      "188/188 [==============================] - 0s 1ms/step - loss: 0.3338 - accuracy: 0.8631\n",
      "Epoch 61/200\n",
      "188/188 [==============================] - 0s 1ms/step - loss: 0.3338 - accuracy: 0.8615\n",
      "Epoch 62/200\n",
      "188/188 [==============================] - 0s 1ms/step - loss: 0.3327 - accuracy: 0.8623\n",
      "Epoch 63/200\n",
      "188/188 [==============================] - 0s 1ms/step - loss: 0.3330 - accuracy: 0.8632\n",
      "Epoch 64/200\n",
      "188/188 [==============================] - 0s 1ms/step - loss: 0.3332 - accuracy: 0.8628\n",
      "Epoch 65/200\n",
      "188/188 [==============================] - 0s 1ms/step - loss: 0.3327 - accuracy: 0.8603\n",
      "Epoch 66/200\n",
      "188/188 [==============================] - 0s 1ms/step - loss: 0.3331 - accuracy: 0.8632\n",
      "Epoch 67/200\n",
      "188/188 [==============================] - 0s 1ms/step - loss: 0.3324 - accuracy: 0.8628\n",
      "Epoch 68/200\n",
      "188/188 [==============================] - 0s 1ms/step - loss: 0.3322 - accuracy: 0.8633\n",
      "Epoch 69/200\n",
      "188/188 [==============================] - 0s 1ms/step - loss: 0.3326 - accuracy: 0.8627\n",
      "Epoch 70/200\n",
      "188/188 [==============================] - 0s 1ms/step - loss: 0.3323 - accuracy: 0.8643\n",
      "Epoch 71/200\n",
      "188/188 [==============================] - 0s 1ms/step - loss: 0.3331 - accuracy: 0.8641\n",
      "Epoch 72/200\n",
      "188/188 [==============================] - 0s 1ms/step - loss: 0.3329 - accuracy: 0.8616\n",
      "Epoch 73/200\n",
      "188/188 [==============================] - 0s 1ms/step - loss: 0.3321 - accuracy: 0.8640\n",
      "Epoch 74/200\n",
      "188/188 [==============================] - 0s 1ms/step - loss: 0.3324 - accuracy: 0.8641\n",
      "Epoch 75/200\n",
      "188/188 [==============================] - 0s 1ms/step - loss: 0.3323 - accuracy: 0.8607\n",
      "Epoch 76/200\n",
      "188/188 [==============================] - 0s 1ms/step - loss: 0.3324 - accuracy: 0.8625\n",
      "Epoch 77/200\n",
      "188/188 [==============================] - 0s 1ms/step - loss: 0.3323 - accuracy: 0.8629\n",
      "Epoch 78/200\n",
      "188/188 [==============================] - 0s 1ms/step - loss: 0.3325 - accuracy: 0.8636\n",
      "Epoch 79/200\n",
      "188/188 [==============================] - 0s 1ms/step - loss: 0.3322 - accuracy: 0.8632\n",
      "Epoch 80/200\n",
      "188/188 [==============================] - 0s 1ms/step - loss: 0.3322 - accuracy: 0.8612\n",
      "Epoch 81/200\n",
      "188/188 [==============================] - 0s 1ms/step - loss: 0.3321 - accuracy: 0.8636\n",
      "Epoch 82/200\n",
      "188/188 [==============================] - 0s 1ms/step - loss: 0.3325 - accuracy: 0.8628\n",
      "Epoch 83/200\n",
      "188/188 [==============================] - 0s 1ms/step - loss: 0.3327 - accuracy: 0.8636\n",
      "Epoch 84/200\n",
      "188/188 [==============================] - 0s 1ms/step - loss: 0.3325 - accuracy: 0.8625\n",
      "Epoch 85/200\n",
      "188/188 [==============================] - 0s 1ms/step - loss: 0.3321 - accuracy: 0.8631\n",
      "Epoch 86/200\n",
      "188/188 [==============================] - 0s 1ms/step - loss: 0.3319 - accuracy: 0.8649\n",
      "Epoch 87/200\n",
      "188/188 [==============================] - 0s 1ms/step - loss: 0.3312 - accuracy: 0.8636\n",
      "Epoch 88/200\n",
      "188/188 [==============================] - 0s 1ms/step - loss: 0.3316 - accuracy: 0.8628\n",
      "Epoch 89/200\n",
      "188/188 [==============================] - 0s 1ms/step - loss: 0.3316 - accuracy: 0.8623\n",
      "Epoch 90/200\n",
      "188/188 [==============================] - 0s 1ms/step - loss: 0.3311 - accuracy: 0.8663\n",
      "Epoch 91/200\n",
      "188/188 [==============================] - 0s 1ms/step - loss: 0.3312 - accuracy: 0.8627\n",
      "Epoch 92/200\n",
      "188/188 [==============================] - 0s 1ms/step - loss: 0.3314 - accuracy: 0.8636\n",
      "Epoch 93/200\n",
      "188/188 [==============================] - 0s 1ms/step - loss: 0.3314 - accuracy: 0.8628\n",
      "Epoch 94/200\n",
      "188/188 [==============================] - 0s 1ms/step - loss: 0.3316 - accuracy: 0.8615\n",
      "Epoch 95/200\n",
      "188/188 [==============================] - 0s 1ms/step - loss: 0.3308 - accuracy: 0.8637\n",
      "Epoch 96/200\n",
      "188/188 [==============================] - 0s 1ms/step - loss: 0.3312 - accuracy: 0.8623\n",
      "Epoch 97/200\n",
      "188/188 [==============================] - 0s 1ms/step - loss: 0.3310 - accuracy: 0.8629\n",
      "Epoch 98/200\n",
      "188/188 [==============================] - 0s 1ms/step - loss: 0.3313 - accuracy: 0.8628\n",
      "Epoch 99/200\n",
      "188/188 [==============================] - 0s 1ms/step - loss: 0.3307 - accuracy: 0.8628\n",
      "Epoch 100/200\n",
      "188/188 [==============================] - 0s 1ms/step - loss: 0.3310 - accuracy: 0.8631\n",
      "Epoch 101/200\n",
      "188/188 [==============================] - 0s 1ms/step - loss: 0.3305 - accuracy: 0.8651\n",
      "Epoch 102/200\n",
      "188/188 [==============================] - 0s 1ms/step - loss: 0.3307 - accuracy: 0.8625\n",
      "Epoch 103/200\n",
      "188/188 [==============================] - 0s 1ms/step - loss: 0.3301 - accuracy: 0.8629\n",
      "Epoch 104/200\n",
      "188/188 [==============================] - 0s 1ms/step - loss: 0.3306 - accuracy: 0.8635\n",
      "Epoch 105/200\n",
      "188/188 [==============================] - 0s 1ms/step - loss: 0.3311 - accuracy: 0.8632\n",
      "Epoch 106/200\n",
      "188/188 [==============================] - 0s 1ms/step - loss: 0.3309 - accuracy: 0.8628\n",
      "Epoch 107/200\n",
      "188/188 [==============================] - 0s 1ms/step - loss: 0.3301 - accuracy: 0.8645\n",
      "Epoch 108/200\n",
      "188/188 [==============================] - 0s 1ms/step - loss: 0.3308 - accuracy: 0.8633\n",
      "Epoch 109/200\n",
      "188/188 [==============================] - 0s 1ms/step - loss: 0.3301 - accuracy: 0.8629\n",
      "Epoch 110/200\n",
      "188/188 [==============================] - 0s 1ms/step - loss: 0.3300 - accuracy: 0.8629\n",
      "Epoch 111/200\n",
      "188/188 [==============================] - 0s 1ms/step - loss: 0.3298 - accuracy: 0.8663\n",
      "Epoch 112/200\n",
      "188/188 [==============================] - 0s 1ms/step - loss: 0.3308 - accuracy: 0.8627\n",
      "Epoch 113/200\n",
      "188/188 [==============================] - 0s 1ms/step - loss: 0.3299 - accuracy: 0.8628\n",
      "Epoch 114/200\n",
      "188/188 [==============================] - 0s 1ms/step - loss: 0.3301 - accuracy: 0.8640\n",
      "Epoch 115/200\n",
      "188/188 [==============================] - 0s 1ms/step - loss: 0.3298 - accuracy: 0.8637\n",
      "Epoch 116/200\n",
      "188/188 [==============================] - 0s 1ms/step - loss: 0.3298 - accuracy: 0.8640\n",
      "Epoch 117/200\n",
      "188/188 [==============================] - 0s 1ms/step - loss: 0.3306 - accuracy: 0.8632\n",
      "Epoch 118/200\n",
      "188/188 [==============================] - 0s 1ms/step - loss: 0.3293 - accuracy: 0.8653\n",
      "Epoch 119/200\n",
      "188/188 [==============================] - 0s 1ms/step - loss: 0.3302 - accuracy: 0.8620\n",
      "Epoch 120/200\n",
      "188/188 [==============================] - 0s 1ms/step - loss: 0.3295 - accuracy: 0.8640\n",
      "Epoch 121/200\n",
      "188/188 [==============================] - 0s 1ms/step - loss: 0.3286 - accuracy: 0.8652\n",
      "Epoch 122/200\n",
      "188/188 [==============================] - 0s 1ms/step - loss: 0.3294 - accuracy: 0.8629\n",
      "Epoch 123/200\n",
      "188/188 [==============================] - 0s 1ms/step - loss: 0.3288 - accuracy: 0.8639\n",
      "Epoch 124/200\n",
      "188/188 [==============================] - 0s 1ms/step - loss: 0.3289 - accuracy: 0.8649\n",
      "Epoch 125/200\n",
      "188/188 [==============================] - 0s 1ms/step - loss: 0.3287 - accuracy: 0.8608\n",
      "Epoch 126/200\n",
      "188/188 [==============================] - 0s 1ms/step - loss: 0.3291 - accuracy: 0.8637\n",
      "Epoch 127/200\n",
      "188/188 [==============================] - 0s 1ms/step - loss: 0.3287 - accuracy: 0.8641\n",
      "Epoch 128/200\n",
      "188/188 [==============================] - 0s 1ms/step - loss: 0.3286 - accuracy: 0.8627\n",
      "Epoch 129/200\n",
      "188/188 [==============================] - 0s 1ms/step - loss: 0.3289 - accuracy: 0.8648\n",
      "Epoch 130/200\n",
      "188/188 [==============================] - 0s 1ms/step - loss: 0.3286 - accuracy: 0.8651\n",
      "Epoch 131/200\n",
      "188/188 [==============================] - 0s 1ms/step - loss: 0.3285 - accuracy: 0.8649\n",
      "Epoch 132/200\n",
      "188/188 [==============================] - 0s 1ms/step - loss: 0.3287 - accuracy: 0.8635\n",
      "Epoch 133/200\n",
      "188/188 [==============================] - 0s 1ms/step - loss: 0.3287 - accuracy: 0.8636\n",
      "Epoch 134/200\n",
      "188/188 [==============================] - 0s 1ms/step - loss: 0.3285 - accuracy: 0.8631\n",
      "Epoch 135/200\n",
      "188/188 [==============================] - 0s 1ms/step - loss: 0.3290 - accuracy: 0.8635\n",
      "Epoch 136/200\n",
      "188/188 [==============================] - 0s 1ms/step - loss: 0.3288 - accuracy: 0.8619\n",
      "Epoch 137/200\n",
      "188/188 [==============================] - 0s 1ms/step - loss: 0.3287 - accuracy: 0.8647\n",
      "Epoch 138/200\n",
      "188/188 [==============================] - 0s 1ms/step - loss: 0.3277 - accuracy: 0.8641\n",
      "Epoch 139/200\n",
      "188/188 [==============================] - 0s 1ms/step - loss: 0.3286 - accuracy: 0.8641\n",
      "Epoch 140/200\n",
      "188/188 [==============================] - 0s 1ms/step - loss: 0.3281 - accuracy: 0.8637\n",
      "Epoch 141/200\n",
      "188/188 [==============================] - 0s 1ms/step - loss: 0.3293 - accuracy: 0.8648\n",
      "Epoch 142/200\n",
      "188/188 [==============================] - 0s 1ms/step - loss: 0.3289 - accuracy: 0.8644\n",
      "Epoch 143/200\n",
      "188/188 [==============================] - 0s 1ms/step - loss: 0.3288 - accuracy: 0.8627\n",
      "Epoch 144/200\n",
      "188/188 [==============================] - 0s 1ms/step - loss: 0.3281 - accuracy: 0.8644\n",
      "Epoch 145/200\n",
      "188/188 [==============================] - 0s 1ms/step - loss: 0.3286 - accuracy: 0.8637\n",
      "Epoch 146/200\n",
      "188/188 [==============================] - 0s 1ms/step - loss: 0.3281 - accuracy: 0.8625\n",
      "Epoch 147/200\n",
      "188/188 [==============================] - 0s 1ms/step - loss: 0.3289 - accuracy: 0.8664\n",
      "Epoch 148/200\n",
      "188/188 [==============================] - 0s 1ms/step - loss: 0.3281 - accuracy: 0.8641\n",
      "Epoch 149/200\n",
      "188/188 [==============================] - 0s 1ms/step - loss: 0.3289 - accuracy: 0.8628\n",
      "Epoch 150/200\n",
      "188/188 [==============================] - 0s 1ms/step - loss: 0.3287 - accuracy: 0.8641\n",
      "Epoch 151/200\n",
      "188/188 [==============================] - 0s 1ms/step - loss: 0.3288 - accuracy: 0.8635\n",
      "Epoch 152/200\n",
      "188/188 [==============================] - 0s 1ms/step - loss: 0.3282 - accuracy: 0.8636\n",
      "Epoch 153/200\n",
      "188/188 [==============================] - 0s 1ms/step - loss: 0.3287 - accuracy: 0.8637\n",
      "Epoch 154/200\n",
      "188/188 [==============================] - 0s 1ms/step - loss: 0.3286 - accuracy: 0.8624\n",
      "Epoch 155/200\n",
      "188/188 [==============================] - 0s 1ms/step - loss: 0.3281 - accuracy: 0.8639\n",
      "Epoch 156/200\n",
      "188/188 [==============================] - 0s 1ms/step - loss: 0.3286 - accuracy: 0.8645\n",
      "Epoch 157/200\n",
      "188/188 [==============================] - 0s 1ms/step - loss: 0.3286 - accuracy: 0.8649\n",
      "Epoch 158/200\n",
      "188/188 [==============================] - 0s 1ms/step - loss: 0.3280 - accuracy: 0.8639\n",
      "Epoch 159/200\n",
      "188/188 [==============================] - 0s 1ms/step - loss: 0.3285 - accuracy: 0.8643\n",
      "Epoch 160/200\n",
      "188/188 [==============================] - 0s 1ms/step - loss: 0.3298 - accuracy: 0.8623\n",
      "Epoch 161/200\n",
      "188/188 [==============================] - 0s 1ms/step - loss: 0.3281 - accuracy: 0.8641\n",
      "Epoch 162/200\n",
      "188/188 [==============================] - 0s 1ms/step - loss: 0.3281 - accuracy: 0.8643\n",
      "Epoch 163/200\n",
      "188/188 [==============================] - 0s 1ms/step - loss: 0.3277 - accuracy: 0.8644\n",
      "Epoch 164/200\n",
      "188/188 [==============================] - 0s 1ms/step - loss: 0.3284 - accuracy: 0.8635\n",
      "Epoch 165/200\n",
      "188/188 [==============================] - 0s 1ms/step - loss: 0.3277 - accuracy: 0.8635\n",
      "Epoch 166/200\n",
      "188/188 [==============================] - 0s 1ms/step - loss: 0.3280 - accuracy: 0.8653\n",
      "Epoch 167/200\n",
      "188/188 [==============================] - 0s 1ms/step - loss: 0.3279 - accuracy: 0.8631\n",
      "Epoch 168/200\n",
      "188/188 [==============================] - 0s 1ms/step - loss: 0.3280 - accuracy: 0.8637\n",
      "Epoch 169/200\n",
      "188/188 [==============================] - 0s 1ms/step - loss: 0.3275 - accuracy: 0.8643\n",
      "Epoch 170/200\n",
      "188/188 [==============================] - 0s 1ms/step - loss: 0.3282 - accuracy: 0.8656\n",
      "Epoch 171/200\n",
      "188/188 [==============================] - 0s 1ms/step - loss: 0.3274 - accuracy: 0.8652\n",
      "Epoch 172/200\n",
      "188/188 [==============================] - 0s 1ms/step - loss: 0.3281 - accuracy: 0.8645\n",
      "Epoch 173/200\n",
      "188/188 [==============================] - 0s 1ms/step - loss: 0.3283 - accuracy: 0.8639\n",
      "Epoch 174/200\n",
      "188/188 [==============================] - 0s 1ms/step - loss: 0.3273 - accuracy: 0.8643\n",
      "Epoch 175/200\n",
      "188/188 [==============================] - 0s 1ms/step - loss: 0.3288 - accuracy: 0.8619\n",
      "Epoch 176/200\n",
      "188/188 [==============================] - 0s 1ms/step - loss: 0.3278 - accuracy: 0.8644\n",
      "Epoch 177/200\n",
      "188/188 [==============================] - 0s 1ms/step - loss: 0.3272 - accuracy: 0.8648\n",
      "Epoch 178/200\n",
      "188/188 [==============================] - 0s 1ms/step - loss: 0.3281 - accuracy: 0.8649\n",
      "Epoch 179/200\n",
      "188/188 [==============================] - 0s 1ms/step - loss: 0.3280 - accuracy: 0.8660\n",
      "Epoch 180/200\n",
      "188/188 [==============================] - 0s 1ms/step - loss: 0.3276 - accuracy: 0.8637\n",
      "Epoch 181/200\n",
      "188/188 [==============================] - 0s 1ms/step - loss: 0.3277 - accuracy: 0.8647\n",
      "Epoch 182/200\n",
      "188/188 [==============================] - 0s 1ms/step - loss: 0.3277 - accuracy: 0.8644\n",
      "Epoch 183/200\n",
      "188/188 [==============================] - 0s 1ms/step - loss: 0.3282 - accuracy: 0.8648\n",
      "Epoch 184/200\n",
      "188/188 [==============================] - 0s 1ms/step - loss: 0.3283 - accuracy: 0.8628\n",
      "Epoch 185/200\n",
      "188/188 [==============================] - 0s 1ms/step - loss: 0.3276 - accuracy: 0.8629\n",
      "Epoch 186/200\n",
      "188/188 [==============================] - 0s 1ms/step - loss: 0.3284 - accuracy: 0.8660\n",
      "Epoch 187/200\n",
      "188/188 [==============================] - 0s 1ms/step - loss: 0.3282 - accuracy: 0.8636\n",
      "Epoch 188/200\n",
      "188/188 [==============================] - 0s 1ms/step - loss: 0.3274 - accuracy: 0.8624\n",
      "Epoch 189/200\n",
      "188/188 [==============================] - 0s 1ms/step - loss: 0.3277 - accuracy: 0.8659\n",
      "Epoch 190/200\n",
      "188/188 [==============================] - 0s 1ms/step - loss: 0.3279 - accuracy: 0.8645\n",
      "Epoch 191/200\n",
      "188/188 [==============================] - 0s 1ms/step - loss: 0.3276 - accuracy: 0.8644\n",
      "Epoch 192/200\n",
      "188/188 [==============================] - 0s 1ms/step - loss: 0.3283 - accuracy: 0.8617\n",
      "Epoch 193/200\n",
      "188/188 [==============================] - 0s 1ms/step - loss: 0.3274 - accuracy: 0.8643\n",
      "Epoch 194/200\n",
      "188/188 [==============================] - 0s 1ms/step - loss: 0.3279 - accuracy: 0.8632\n",
      "Epoch 195/200\n",
      "188/188 [==============================] - 0s 1ms/step - loss: 0.3273 - accuracy: 0.8664\n",
      "Epoch 196/200\n",
      "188/188 [==============================] - 0s 1ms/step - loss: 0.3280 - accuracy: 0.8652\n",
      "Epoch 197/200\n",
      "188/188 [==============================] - 0s 1ms/step - loss: 0.3274 - accuracy: 0.8641\n",
      "Epoch 198/200\n",
      "188/188 [==============================] - 0s 1ms/step - loss: 0.3275 - accuracy: 0.8643\n",
      "Epoch 199/200\n",
      "188/188 [==============================] - 0s 1ms/step - loss: 0.3276 - accuracy: 0.8659\n",
      "Epoch 200/200\n",
      "188/188 [==============================] - 0s 1ms/step - loss: 0.3281 - accuracy: 0.8632\n"
     ]
    },
    {
     "data": {
      "text/plain": [
       "<tensorflow.python.keras.callbacks.History at 0x7f54e9aa5358>"
      ]
     },
     "execution_count": 22,
     "metadata": {
      "tags": []
     },
     "output_type": "execute_result"
    }
   ],
   "source": [
    "#training the ann\n",
    "ann.fit(x_train,y_train,batch_size=40,epochs=200)"
   ]
  },
  {
   "cell_type": "code",
   "execution_count": 0,
   "metadata": {
    "colab": {
     "base_uri": "https://localhost:8080/",
     "height": 136
    },
    "colab_type": "code",
    "id": "w5c_nEL_Gvv9",
    "outputId": "8dea374b-5e37-4bbf-b2b2-1d0f85fee425"
   },
   "outputs": [
    {
     "name": "stdout",
     "output_type": "stream",
     "text": [
      "[[0 0]\n",
      " [0 1]\n",
      " [0 0]\n",
      " ...\n",
      " [0 0]\n",
      " [0 0]\n",
      " [0 0]]\n"
     ]
    }
   ],
   "source": [
    "#prediction of test\n",
    "pred = ann.predict(x_test)\n",
    "pred = (pred>0.5)\n",
    "print(np.concatenate((pred.reshape(len(pred),1),y_test.reshape(len(y_test),1)),1))"
   ]
  },
  {
   "cell_type": "code",
   "execution_count": 0,
   "metadata": {
    "colab": {
     "base_uri": "https://localhost:8080/",
     "height": 68
    },
    "colab_type": "code",
    "id": "_xGZnFZKMe11",
    "outputId": "69a6c130-3057-4a24-8beb-12ee381910c4"
   },
   "outputs": [
    {
     "name": "stdout",
     "output_type": "stream",
     "text": [
      "[[1921  280]\n",
      " [  70  229]]\n"
     ]
    },
    {
     "data": {
      "text/plain": [
       "0.86"
      ]
     },
     "execution_count": 26,
     "metadata": {
      "tags": []
     },
     "output_type": "execute_result"
    }
   ],
   "source": [
    "#confusion matrix\n",
    "cm=confusion_matrix(pred,y_test)\n",
    "print(cm)\n",
    "accuracy_score(y_test,pred)"
   ]
  },
  {
   "cell_type": "code",
   "execution_count": 0,
   "metadata": {
    "colab": {},
    "colab_type": "code",
    "id": "jqlW8dAOuPnB"
   },
   "outputs": [],
   "source": []
  }
 ],
 "metadata": {
  "colab": {
   "collapsed_sections": [],
   "name": "Churn(ANN).ipynb",
   "provenance": []
  },
  "kernelspec": {
   "display_name": "Python 3",
   "language": "python",
   "name": "python3"
  },
  "language_info": {
   "codemirror_mode": {
    "name": "ipython",
    "version": 3
   },
   "file_extension": ".py",
   "mimetype": "text/x-python",
   "name": "python",
   "nbconvert_exporter": "python",
   "pygments_lexer": "ipython3",
   "version": "3.7.4"
  }
 },
 "nbformat": 4,
 "nbformat_minor": 1
}
